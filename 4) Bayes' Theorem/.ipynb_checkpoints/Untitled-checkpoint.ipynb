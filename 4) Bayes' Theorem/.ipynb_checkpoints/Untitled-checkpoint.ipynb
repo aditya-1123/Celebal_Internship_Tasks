{
 "cells": [
  {
   "cell_type": "markdown",
   "id": "eba36317-364b-4347-bb76-2f57e4b660eb",
   "metadata": {},
   "source": [
    "1)"
   ]
  },
  {
   "cell_type": "code",
   "execution_count": null,
   "id": "f7a28b86-f1d9-4d04-8d2e-f80d3aa7ebf6",
   "metadata": {},
   "outputs": [],
   "source": [
    "import pandas as pd"
   ]
  },
  {
   "cell_type": "code",
   "execution_count": null,
   "id": "58136c39-4ee4-4002-a18b-26e96d7369f4",
   "metadata": {},
   "outputs": [
    {
     "name": "stdout",
     "output_type": "stream",
     "text": [
      "<class 'pandas.core.frame.DataFrame'>\n",
      "RangeIndex: 768 entries, 0 to 767\n",
      "Data columns (total 9 columns):\n",
      " #   Column                    Non-Null Count  Dtype  \n",
      "---  ------                    --------------  -----  \n",
      " 0   Pregnancies               768 non-null    int64  \n",
      " 1   Glucose                   768 non-null    int64  \n",
      " 2   BloodPressure             768 non-null    int64  \n",
      " 3   SkinThickness             768 non-null    int64  \n",
      " 4   Insulin                   768 non-null    int64  \n",
      " 5   BMI                       768 non-null    float64\n",
      " 6   DiabetesPedigreeFunction  768 non-null    float64\n",
      " 7   Age                       768 non-null    int64  \n",
      " 8   Outcome                   768 non-null    int64  \n",
      "dtypes: float64(2), int64(7)\n",
      "memory usage: 54.1 KB\n"
     ]
    },
    {
     "data": {
      "text/plain": [
       "(   Pregnancies  Glucose  BloodPressure  SkinThickness  Insulin   BMI  \\\n",
       " 0            6      148             72             35        0  33.6   \n",
       " 1            1       85             66             29        0  26.6   \n",
       " 2            8      183             64              0        0  23.3   \n",
       " 3            1       89             66             23       94  28.1   \n",
       " 4            0      137             40             35      168  43.1   \n",
       " \n",
       "    DiabetesPedigreeFunction  Age  Outcome  \n",
       " 0                     0.627   50        1  \n",
       " 1                     0.351   31        0  \n",
       " 2                     0.672   32        1  \n",
       " 3                     0.167   21        0  \n",
       " 4                     2.288   33        1  ,\n",
       " None)"
      ]
     },
     "execution_count": 10,
     "metadata": {},
     "output_type": "execute_result"
    }
   ],
   "source": [
    "file_path = 'diabetes.csv'\n",
    "diabetes_df = pd.read_csv(file_path)\n",
    "diabetes_df.head(),diabetes_df.info()"
   ]
  },
  {
   "cell_type": "code",
   "execution_count": 15,
   "id": "f52f3480-c8f3-43a7-897d-0da16d3cb0a0",
   "metadata": {},
   "outputs": [],
   "source": [
    "P_Diabetes = diabetes_df['Outcome'].mean()\n",
    "P_NoDiabetes = 1 - P_Diabetes"
   ]
  },
  {
   "cell_type": "code",
   "execution_count": 16,
   "id": "6674393e-a60a-4b7e-b546-40d7d2024dd7",
   "metadata": {},
   "outputs": [],
   "source": [
    "high_glucose_threshold = 140"
   ]
  },
  {
   "cell_type": "code",
   "execution_count": 17,
   "id": "468ad334-c34f-48e3-bdce-b72b5f1579e3",
   "metadata": {},
   "outputs": [],
   "source": [
    "P_HighGlucose_Diabetes = diabetes_df[(diabetes_df['Glucose'] > high_glucose_threshold) & (diabetes_df['Outcome'] == 1)].shape[0] / diabetes_df[diabetes_df['Outcome'] == 1].shape[0]\n",
    "P_HighGlucose_NoDiabetes = diabetes_df[(diabetes_df['Glucose'] > high_glucose_threshold) & (diabetes_df['Outcome'] == 0)].shape[0] / diabetes_df[diabetes_df['Outcome'] == 0].shape[0]"
   ]
  },
  {
   "cell_type": "code",
   "execution_count": 18,
   "id": "7d3bfa4f-96b2-495a-bb11-ad64b0eb044e",
   "metadata": {},
   "outputs": [],
   "source": [
    "P_HighGlucose = diabetes_df[diabetes_df['Glucose'] > high_glucose_threshold].shape[0] / diabetes_df.shape[0]"
   ]
  },
  {
   "cell_type": "code",
   "execution_count": 19,
   "id": "a23721ef-f3a1-4e07-8e88-1580bda2c5ed",
   "metadata": {},
   "outputs": [],
   "source": [
    "P_Diabetes_HighGlucose = (P_HighGlucose_Diabetes * P_Diabetes) / P_HighGlucose"
   ]
  },
  {
   "cell_type": "code",
   "execution_count": 2,
   "id": "d2bce80b-de34-4dcf-98f2-c4a19d8f1c09",
   "metadata": {},
   "outputs": [
    {
     "name": "stdout",
     "output_type": "stream",
     "text": [
      "Eigenvalues: [6.04891734 1.64310413 1.30797853]\n",
      "Eigenvectors: [[ 0.73697623  0.59100905  0.32798528]\n",
      " [ 0.59100905 -0.32798528 -0.73697623]\n",
      " [ 0.32798528 -0.73697623  0.59100905]]\n"
     ]
    }
   ],
   "source": [
    "import numpy as np\n",
    "A = np.array([[4, 2, 1], [2, 3, 1], [1, 1, 2]])\n",
    "eigenvalues, eigenvectors = np.linalg.eig(A)\n",
    "print(\"Eigenvalues:\", eigenvalues)\n",
    "print(\"Eigenvectors:\", eigenvectors)"
   ]
  },
  {
   "cell_type": "code",
   "execution_count": 20,
   "id": "4e63c56c-15ac-41f8-a005-3f22552a2775",
   "metadata": {},
   "outputs": [
    {
     "data": {
      "text/plain": [
       "0.6874999999999999"
      ]
     },
     "execution_count": 20,
     "metadata": {},
     "output_type": "execute_result"
    }
   ],
   "source": [
    "P_Diabetes_HighGlucose"
   ]
  },
  {
   "cell_type": "code",
   "execution_count": 3,
   "id": "2fbad129-c71a-43f6-bcbc-d23c833c9742",
   "metadata": {},
   "outputs": [
    {
     "name": "stdout",
     "output_type": "stream",
     "text": [
      "Determinant: 13.0\n",
      "Inverse: [[ 0.38461538 -0.23076923 -0.07692308]\n",
      " [-0.23076923  0.53846154 -0.15384615]\n",
      " [-0.07692308 -0.15384615  0.61538462]]\n"
     ]
    }
   ],
   "source": [
    "determinant = np.linalg.det(A)\n",
    "if determinant != 0:\n",
    "    inverse = np.linalg.inv(A)\n",
    "else:\n",
    "    inverse = None\n",
    "print(\"Determinant:\", determinant)\n",
    "print(\"Inverse:\", inverse)"
   ]
  },
  {
   "cell_type": "code",
   "execution_count": 4,
   "id": "3b5ec1bb-b477-4f12-86d9-95814d3935bf",
   "metadata": {},
   "outputs": [
    {
     "name": "stdout",
     "output_type": "stream",
     "text": [
      "P(X <= 1) for N(0, 1): 0.8413447460685429\n"
     ]
    }
   ],
   "source": [
    "import scipy.stats as stats\n",
    "mu = 0\n",
    "sigma = 1\n",
    "probability = stats.norm.cdf(1, mu, sigma)\n",
    "print(\"P(X <= 1) for N(0, 1):\", probability)"
   ]
  }
 ],
 "metadata": {
  "kernelspec": {
   "display_name": "Python 3 (ipykernel)",
   "language": "python",
   "name": "python3"
  },
  "language_info": {
   "codemirror_mode": {
    "name": "ipython",
    "version": 3
   },
   "file_extension": ".py",
   "mimetype": "text/x-python",
   "name": "python",
   "nbconvert_exporter": "python",
   "pygments_lexer": "ipython3",
   "version": "3.12.1"
  }
 },
 "nbformat": 4,
 "nbformat_minor": 5
}
